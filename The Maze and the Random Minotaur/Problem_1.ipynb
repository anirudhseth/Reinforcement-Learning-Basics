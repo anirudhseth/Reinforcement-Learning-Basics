{
  "nbformat": 4,
  "nbformat_minor": 0,
  "metadata": {
    "language_info": {
      "codemirror_mode": {
        "name": "ipython",
        "version": 3
      },
      "file_extension": ".py",
      "mimetype": "text/x-python",
      "name": "python",
      "nbconvert_exporter": "python",
      "pygments_lexer": "ipython3",
      "version": "3.8.3-final"
    },
    "orig_nbformat": 2,
    "kernelspec": {
      "name": "python3",
      "display_name": "Python 3"
    },
    "colab": {
      "name": "Problem_1.ipynb",
      "provenance": [],
      "collapsed_sections": [],
      "toc_visible": true
    }
  },
  "cells": [
    {
      "cell_type": "markdown",
      "metadata": {
        "id": "a8plu1KrCd4j"
      },
      "source": [
        "## Problem 1 : The Maze and the Random Minotaur"
      ]
    },
    {
      "cell_type": "code",
      "metadata": {
        "id": "KYoWHQBOCd4j"
      },
      "source": [
        "import numpy as np\n",
        "import maze as mz\n",
        "\n",
        "maze = np.array([\n",
        "    [0, 0, 1, 0, 0, 0, 0, 0],\n",
        "    [0, 0, 1, 0, 0, 1, 0, 0],\n",
        "    [0, 0, 1, 0, 0, 1, 1, 1],\n",
        "    [0, 0, 1, 0, 0, 1, 0, 0],\n",
        "    [0, 0, 0, 0, 0, 0, 0, 0],\n",
        "    [0, 1, 1, 1, 1, 1, 1, 0],\n",
        "    [0, 0, 0, 0, 1, 2, 0, 0]\n",
        "])\n"
      ],
      "execution_count": 1,
      "outputs": []
    },
    {
      "cell_type": "markdown",
      "metadata": {
        "id": "Vlo7cLo1Cd4k"
      },
      "source": [
        " (a) Formulate the problem as an MDP."
      ]
    },
    {
      "cell_type": "code",
      "metadata": {
        "colab": {
          "base_uri": "https://localhost:8080/",
          "height": 431
        },
        "id": "TfOpKnH-Cd4k",
        "outputId": "bae0cd3e-bebe-4032-8dba-2dc01a72da82"
      },
      "source": [
        "mz.draw_maze(maze)\n",
        "minotaurStay= False\n",
        "env = mz.Maze(maze,minotaurStay)"
      ],
      "execution_count": 7,
      "outputs": [
        {
          "output_type": "display_data",
          "data": {
            "image/png": "[encoded data removed]",
            "text/plain": [
              "<Figure size 576x504 with 1 Axes>"
            ]
          },
          "metadata": {
            "tags": []
          }
        }
      ]
    },
    {
      "cell_type": "markdown",
      "metadata": {
        "id": "G-neH9iGCd4k"
      },
      "source": [
        "b) Solve the problem, and illustrate an optimal policy for T = 20. Plot the maximal probability of exiting the maze as a function of T. Is there a di\u000berence if the minotaur is allowed to stand still? If so, why?"
      ]
    },
    {
      "cell_type": "code",
      "metadata": {
        "id": "3WNJF4fyCd4k"
      },
      "source": [
        "\n",
        "horizon = 20\n",
        "V, policy= mz.dynamic_programming(env,horizon);\n",
        "method = 'DynProg';\n",
        "start  = ((0,0),(6,5));\n",
        "path = env.simulate(start, policy, method);\n",
        "\n"
      ],
      "execution_count": 8,
      "outputs": []
    },
    {
      "cell_type": "code",
      "metadata": {
        "colab": {
          "base_uri": "https://localhost:8080/",
          "height": 431
        },
        "id": "UvL319NrCd4k",
        "outputId": "eec0e477-69dd-4f96-edd8-55a1a178bc0f"
      },
      "source": [
        "mz.animate_solution(maze, path)"
      ],
      "execution_count": 9,
      "outputs": [
        {
          "output_type": "display_data",
          "data": {
            "image/png": "[encoded data removed]",
            "text/plain": [
              "<Figure size 576x504 with 1 Axes>"
            ]
          },
          "metadata": {
            "tags": []
          }
        }
      ]
    },
    {
      "cell_type": "markdown",
      "metadata": {
        "id": "6-hWh0ctCd4l"
      },
      "source": [
        "The maximal probability of exiting the maze as a function of T for two cases if the minotaur is : 1.)allowed to stand still and 2.)not allowed to stand still"
      ]
    },
    {
      "cell_type": "code",
      "metadata": {
        "colab": {
          "base_uri": "https://localhost:8080/"
        },
        "id": "rvuPVt-HCd4l",
        "outputId": "3a1d0b5a-1a19-4ad7-98a5-eeb51ec671ad"
      },
      "source": [
        "from tqdm import tqdm\n",
        "import matplotlib.pyplot as plt\n",
        "import time \n",
        "max_iter=10000\n",
        "Horizons = [5,10,15,17,19,21,23,25,30,40]\n",
        "\n",
        "\n",
        "minotaurStay= False\n",
        "env = mz.Maze(maze,minotaurStay)\n",
        "\n",
        "P=[]\n",
        "for horizon in tqdm(Horizons,desc='Running simulations for still :false'):\n",
        "    win_count=0\n",
        "    V, policy= mz.dynamic_programming(env,horizon);\n",
        "    for i in range(max_iter):\n",
        "        method = 'DynProg';\n",
        "        start  = ((0,0),(6,5));\n",
        "        path = env.simulate(start, policy, method);\n",
        "        if(path[-1][0]==(6,5)):\n",
        "            win_count+=1\n",
        "  \n",
        "    winning_prob = win_count/max_iter\n",
        "    P.append(winning_prob)\n",
        "\n",
        "\n",
        "minotaurStay= True\n",
        "env = mz.Maze(maze,minotaurStay)\n",
        "\n",
        "P_stay=[]\n",
        "for horizon in tqdm(Horizons,desc='Running simulations for still :true'):\n",
        "    win_count=0\n",
        "    V, policy= mz.dynamic_programming(env,horizon);\n",
        "    for i in range(max_iter):\n",
        "        method = 'DynProg';\n",
        "        start  = ((0,0),(6,5));\n",
        "        path = env.simulate(start, policy, method);\n",
        "        if(path[-1][0]==(6,5)):\n",
        "            win_count+=1\n",
        "    winning_prob = win_count/max_iter\n",
        "    P_stay.append(winning_prob)\n",
        "\n",
        "\n"
      ],
      "execution_count": 19,
      "outputs": [
        {
          "output_type": "stream",
          "text": [
            "\n",
            "\n",
            "Running simulations for still :false:   0%|          | 0/10 [00:00<?, ?it/s]\u001b[A\u001b[A\n",
            "\n",
            "Running simulations for still :false:  10%|█         | 1/10 [00:02<00:22,  2.49s/it]\u001b[A\u001b[A\n",
            "\n",
            "Running simulations for still :false:  20%|██        | 2/10 [00:07<00:25,  3.25s/it]\u001b[A\u001b[A\n",
            "\n",
            "Running simulations for still :false:  30%|███       | 3/10 [00:15<00:32,  4.59s/it]\u001b[A\u001b[A\n",
            "\n",
            "Running simulations for still :false:  40%|████      | 4/10 [00:23<00:34,  5.72s/it]\u001b[A\u001b[A\n",
            "\n",
            "Running simulations for still :false:  50%|█████     | 5/10 [00:32<00:33,  6.72s/it]\u001b[A\u001b[A\n",
            "\n",
            "Running simulations for still :false:  60%|██████    | 6/10 [00:42<00:30,  7.66s/it]\u001b[A\u001b[A\n",
            "\n",
            "Running simulations for still :false:  70%|███████   | 7/10 [00:53<00:25,  8.55s/it]\u001b[A\u001b[A\n",
            "\n",
            "Running simulations for still :false:  80%|████████  | 8/10 [01:04<00:18,  9.40s/it]\u001b[A\u001b[A\n",
            "\n",
            "Running simulations for still :false:  90%|█████████ | 9/10 [01:17<00:10, 10.58s/it]\u001b[A\u001b[A\n",
            "\n",
            "Running simulations for still :false: 100%|██████████| 10/10 [01:35<00:00,  9.52s/it]\n",
            "\n",
            "\n",
            "Running simulations for still :true:   0%|          | 0/10 [00:00<?, ?it/s]\u001b[A\u001b[A\n",
            "\n",
            "Running simulations for still :true:  10%|█         | 1/10 [00:02<00:22,  2.52s/it]\u001b[A\u001b[A\n",
            "\n",
            "Running simulations for still :true:  20%|██        | 2/10 [00:07<00:26,  3.28s/it]\u001b[A\u001b[A\n",
            "\n",
            "Running simulations for still :true:  30%|███       | 3/10 [00:15<00:32,  4.64s/it]\u001b[A\u001b[A\n",
            "\n",
            "Running simulations for still :true:  40%|████      | 4/10 [00:24<00:35,  5.85s/it]\u001b[A\u001b[A\n",
            "\n",
            "Running simulations for still :true:  50%|█████     | 5/10 [00:33<00:34,  6.96s/it]\u001b[A\u001b[A\n",
            "\n",
            "Running simulations for still :true:  60%|██████    | 6/10 [00:43<00:31,  7.98s/it]\u001b[A\u001b[A\n",
            "\n",
            "Running simulations for still :true:  70%|███████   | 7/10 [00:55<00:26,  8.91s/it]\u001b[A\u001b[A\n",
            "\n",
            "Running simulations for still :true:  80%|████████  | 8/10 [01:06<00:19,  9.79s/it]\u001b[A\u001b[A\n",
            "\n",
            "Running simulations for still :true:  90%|█████████ | 9/10 [01:20<00:11, 11.05s/it]\u001b[A\u001b[A\n",
            "\n",
            "Running simulations for still :true: 100%|██████████| 10/10 [01:38<00:00,  9.87s/it]\n"
          ],
          "name": "stderr"
        }
      ]
    },
    {
      "cell_type": "code",
      "metadata": {
        "colab": {
          "base_uri": "https://localhost:8080/",
          "height": 279
        },
        "id": "6ojUjpwXCwL8",
        "outputId": "67d83150-a645-444b-f65f-468e64e63f16"
      },
      "source": [
        "plt.scatter(Horizons,P_stay)\n",
        "plt.plot(Horizons,P_stay ,label='Still')\n",
        "plt.scatter(Horizons,P)\n",
        "plt.plot(Horizons,P,label='Not Still')\n",
        "plt.xlabel('Time horizon')\n",
        "plt.ylabel(\"Probability of exiting the maze\")\n",
        "plt.legend()\n",
        "plt.savefig('Problem1.png')"
      ],
      "execution_count": 21,
      "outputs": [
        {
          "output_type": "display_data",
          "data": {
            "image/png": "[encoded data removed]",
            "text/plain": [
              "<Figure size 432x288 with 1 Axes>"
            ]
          },
          "metadata": {
            "tags": [],
            "needs_background": "light"
          }
        }
      ]
    },
    {
      "cell_type": "markdown",
      "metadata": {
        "id": "gtdYNUqlCd4l"
      },
      "source": [
        "c) Assume now that your life is geometrically distributed with mean 30. Modify the problem\n",
        "so as to derive a policy minimizing the expected time to exit the maze. Motivate your\n",
        "new problem formulation. Estimate the probability of getting out alive using this policy by\n",
        "simulating 10 000 games."
      ]
    },
    {
      "cell_type": "code",
      "metadata": {
        "colab": {
          "base_uri": "https://localhost:8080/"
        },
        "id": "1yIrUF-lCd4l",
        "outputId": "10d26bfc-b665-44e6-cadd-093c3f58e9ca"
      },
      "source": [
        "from tqdm import tqdm\n",
        "minotaurStay= False\n",
        "env = mz.Maze(maze,minotaurStay)\n",
        "life = 30;\n",
        "gamma   = 1 - (1/life);\n",
        "epsilon = 0.0001;\n",
        "simulation=10000\n",
        "win_count=0\n",
        "V, policy = mz.value_iteration(env, gamma, epsilon)\n",
        "method = 'ValIter';\n",
        "start  = ((0,0),(6,5));\n",
        "for i in tqdm(range(simulation)):\n",
        "    path = env.simulate(start, policy, method)\n",
        "    if(path[-1][0]==(6,5)):\n",
        "        win_count+=1\n",
        "    # mz.animate_solution(maze, path)\n",
        "P2= win_count/simulation\n",
        "print('Probability of getting out alive: ',P2)"
      ],
      "execution_count": 5,
      "outputs": [
        {
          "output_type": "stream",
          "name": "stderr",
          "text": [
            "100%|██████████| 10000/10000 [00:06<00:00, 1603.07it/s]Probability of getting out alive:  1.0\n",
            "\n"
          ]
        }
      ]
    },
    {
      "cell_type": "code",
      "execution_count": 6,
      "metadata": {},
      "outputs": [
        {
          "output_type": "stream",
          "name": "stderr",
          "text": [
            "100%|██████████| 10000/10000 [00:04<00:00, 2133.79it/s]Probability of getting out alive:  0.3464\n",
            "\n"
          ]
        }
      ],
      "source": [
        "from tqdm import tqdm\n",
        "minotaurStay= True\n",
        "env = mz.Maze(maze,minotaurStay)\n",
        "life = 30;\n",
        "gamma   = 1 - (1/life);\n",
        "epsilon = 0.0001;\n",
        "simulation=10000\n",
        "win_count=0\n",
        "V, policy = mz.value_iteration(env, gamma, epsilon)\n",
        "method = 'ValIter';\n",
        "start  = ((0,0),(6,5));\n",
        "for i in tqdm(range(simulation)):\n",
        "    path = env.simulate(start, policy, method)\n",
        "    if(path[-1][0]==(6,5)):\n",
        "        win_count+=1\n",
        "    # mz.animate_solution(maze, path)\n",
        "P2= win_count/simulation\n",
        "print('Probability of getting out alive: ',P2)"
      ]
    }
  ]
}